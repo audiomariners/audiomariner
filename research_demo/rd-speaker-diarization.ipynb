{
 "cells": [
  {
   "cell_type": "markdown",
   "metadata": {},
   "source": [
    "# Speaker Diarization of a Podcast Episode\n",
    "\n",
    "This notebook demonstrates how to segment a podcast episode by speakers using `pyannote.audio`."
   ]
  },
  {
   "cell_type": "markdown",
   "metadata": {},
   "source": [
    "## Settings"
   ]
  },
  {
   "cell_type": "code",
   "execution_count": 1,
   "metadata": {},
   "outputs": [],
   "source": [
    "from audiomariner.util import get_secret"
   ]
  },
  {
   "cell_type": "code",
   "execution_count": 2,
   "metadata": {},
   "outputs": [],
   "source": [
    "token_huggingface = get_secret(\"token_huggingface\")"
   ]
  },
  {
   "cell_type": "code",
   "execution_count": 3,
   "metadata": {},
   "outputs": [],
   "source": [
    "from pathlib import Path"
   ]
  },
  {
   "cell_type": "code",
   "execution_count": 4,
   "metadata": {},
   "outputs": [],
   "source": [
    "example_short_podcast_path = Path(\"../data/audio/temp/agi-is-far-away.mp3\")\n",
    "example_long_podcast_path = Path(\"../data/audio/temp/lex_ai_yann_lecun_3.mp3\")\n",
    "example_podcast_path = example_short_podcast_path"
   ]
  },
  {
   "cell_type": "code",
   "execution_count": 5,
   "metadata": {},
   "outputs": [
    {
     "name": "stdout",
     "output_type": "stream",
     "text": [
      "MPS is available\n"
     ]
    }
   ],
   "source": [
    "import torch\n",
    "\n",
    "if torch.backends.mps.is_available():\n",
    "    print(\"MPS is available\")\n",
    "else:\n",
    "    print(\"MPS is not available\")"
   ]
  },
  {
   "cell_type": "markdown",
   "metadata": {},
   "source": [
    "## Diarization Pipeline"
   ]
  },
  {
   "cell_type": "code",
   "execution_count": 6,
   "metadata": {},
   "outputs": [
    {
     "name": "stderr",
     "output_type": "stream",
     "text": [
      "/Users/cls/miniforge3/envs/audiomariner2/lib/python3.11/site-packages/tqdm/auto.py:21: TqdmWarning: IProgress not found. Please update jupyter and ipywidgets. See https://ipywidgets.readthedocs.io/en/stable/user_install.html\n",
      "  from .autonotebook import tqdm as notebook_tqdm\n"
     ]
    }
   ],
   "source": [
    "from pyannote.audio import Pipeline\n"
   ]
  },
  {
   "cell_type": "code",
   "execution_count": 7,
   "metadata": {},
   "outputs": [
    {
     "name": "stderr",
     "output_type": "stream",
     "text": [
      "torchvision is not available - cannot save figures\n"
     ]
    }
   ],
   "source": [
    "# Initialize the diarization pipeline\n",
    "diarization_pipeline = Pipeline.from_pretrained(\n",
    "    \"pyannote/speaker-diarization-3.1\",\n",
    "    use_auth_token=token_huggingface,\n",
    ")"
   ]
  },
  {
   "cell_type": "code",
   "execution_count": 8,
   "metadata": {},
   "outputs": [],
   "source": [
    "from pydub import AudioSegment\n",
    "import io\n",
    "from typing import IO\n",
    "\n",
    "def load_mp3_for_pyannote(mp3_file_path: str) -> IO[bytes]:\n",
    "    \"\"\"\n",
    "    Convert an MP3 file to WAV format in memory and return an in-memory file-like object.\n",
    "\n",
    "    Args:\n",
    "    mp3_file_path (str): The path to the MP3 file.\n",
    "\n",
    "    Returns:\n",
    "    IO[bytes]: An in-memory file-like object containing the WAV data.\n",
    "    \"\"\"\n",
    "    # Load the MP3 file\n",
    "    audio = AudioSegment.from_mp3(mp3_file_path)\n",
    "    \n",
    "    # Create an in-memory bytes buffer\n",
    "    wav_io = io.BytesIO()\n",
    "    \n",
    "    # Export the audio to WAV format, in-memory\n",
    "    audio.export(wav_io, format=\"wav\")\n",
    "\n",
    "    # Seek to the start of the BytesIO buffer\n",
    "    wav_io.seek(0)\n",
    "\n",
    "    return wav_io"
   ]
  },
  {
   "cell_type": "code",
   "execution_count": 9,
   "metadata": {},
   "outputs": [],
   "source": [
    "example_podcast = load_mp3_for_pyannote(example_podcast_path)"
   ]
  },
  {
   "cell_type": "code",
   "execution_count": 10,
   "metadata": {},
   "outputs": [
    {
     "data": {
      "text/plain": [
       "<pyannote.audio.pipelines.speaker_diarization.SpeakerDiarization at 0x17c9a2490>"
      ]
     },
     "execution_count": 10,
     "metadata": {},
     "output_type": "execute_result"
    }
   ],
   "source": [
    "diarization_pipeline.to(torch.device(\"mps\"))\n"
   ]
  },
  {
   "cell_type": "code",
   "execution_count": 12,
   "metadata": {},
   "outputs": [
    {
     "data": {
      "image/png": "[encoded data removed]",
      "text/plain": [
       "<pyannote.core.annotation.Annotation at 0x3029a6490>"
      ]
     },
     "execution_count": 12,
     "metadata": {},
     "output_type": "execute_result"
    }
   ],
   "source": [
    "example_diarization = diarization_pipeline(\n",
    "    example_podcast\n",
    ")\n",
    "example_diarization"
   ]
  },
  {
   "cell_type": "code",
   "execution_count": 13,
   "metadata": {},
   "outputs": [],
   "source": [
    "from pandas import DataFrame, Series\n",
    "\n",
    "def diarization_result_to_dataframe(diarization):\n",
    "    \"\"\"\n",
    "    Convert a diarization result to a pandas DataFrame.\n",
    "    \n",
    "    Parameters:\n",
    "    diarization (pyannote.core.Annotation): Diarization result from pyannote.\n",
    "    \n",
    "    Returns:\n",
    "    pd.DataFrame: DataFrame with columns 'start', 'end', and 'speaker'.\n",
    "    \"\"\"\n",
    "    # Extract diarization data into a list of dictionaries\n",
    "    data = []\n",
    "    for turn, _, speaker in diarization.itertracks(yield_label=True):\n",
    "        data.append({\n",
    "            'start': turn.start,\n",
    "            'end': turn.end,\n",
    "            'speaker': speaker\n",
    "        })\n",
    "\n",
    "    # Convert list of dictionaries to pandas DataFrame\n",
    "    data = DataFrame(data)\n",
    "\n",
    "    return data"
   ]
  },
  {
   "cell_type": "code",
   "execution_count": 15,
   "metadata": {},
   "outputs": [
    {
     "data": {
      "text/html": [
       "<div>\n",
       "<style scoped>\n",
       "    .dataframe tbody tr th:only-of-type {\n",
       "        vertical-align: middle;\n",
       "    }\n",
       "\n",
       "    .dataframe tbody tr th {\n",
       "        vertical-align: top;\n",
       "    }\n",
       "\n",
       "    .dataframe thead th {\n",
       "        text-align: right;\n",
       "    }\n",
       "</style>\n",
       "<table border=\"1\" class=\"dataframe\">\n",
       "  <thead>\n",
       "    <tr style=\"text-align: right;\">\n",
       "      <th></th>\n",
       "      <th>start</th>\n",
       "      <th>end</th>\n",
       "      <th>speaker</th>\n",
       "    </tr>\n",
       "  </thead>\n",
       "  <tbody>\n",
       "    <tr>\n",
       "      <th>0</th>\n",
       "      <td>2.967219</td>\n",
       "      <td>4.823469</td>\n",
       "      <td>SPEAKER_00</td>\n",
       "    </tr>\n",
       "    <tr>\n",
       "      <th>1</th>\n",
       "      <td>5.869719</td>\n",
       "      <td>7.084719</td>\n",
       "      <td>SPEAKER_00</td>\n",
       "    </tr>\n",
       "    <tr>\n",
       "      <th>2</th>\n",
       "      <td>7.742844</td>\n",
       "      <td>9.194094</td>\n",
       "      <td>SPEAKER_00</td>\n",
       "    </tr>\n",
       "    <tr>\n",
       "      <th>3</th>\n",
       "      <td>9.987219</td>\n",
       "      <td>16.619094</td>\n",
       "      <td>SPEAKER_00</td>\n",
       "    </tr>\n",
       "    <tr>\n",
       "      <th>4</th>\n",
       "      <td>11.708469</td>\n",
       "      <td>11.961594</td>\n",
       "      <td>SPEAKER_01</td>\n",
       "    </tr>\n",
       "    <tr>\n",
       "      <th>5</th>\n",
       "      <td>17.159094</td>\n",
       "      <td>19.251594</td>\n",
       "      <td>SPEAKER_01</td>\n",
       "    </tr>\n",
       "    <tr>\n",
       "      <th>6</th>\n",
       "      <td>20.297844</td>\n",
       "      <td>39.754719</td>\n",
       "      <td>SPEAKER_01</td>\n",
       "    </tr>\n",
       "    <tr>\n",
       "      <th>7</th>\n",
       "      <td>41.155344</td>\n",
       "      <td>137.444094</td>\n",
       "      <td>SPEAKER_01</td>\n",
       "    </tr>\n",
       "    <tr>\n",
       "      <th>8</th>\n",
       "      <td>137.460969</td>\n",
       "      <td>137.579094</td>\n",
       "      <td>SPEAKER_00</td>\n",
       "    </tr>\n",
       "    <tr>\n",
       "      <th>9</th>\n",
       "      <td>137.882844</td>\n",
       "      <td>146.640969</td>\n",
       "      <td>SPEAKER_00</td>\n",
       "    </tr>\n",
       "    <tr>\n",
       "      <th>10</th>\n",
       "      <td>147.619719</td>\n",
       "      <td>149.864094</td>\n",
       "      <td>SPEAKER_00</td>\n",
       "    </tr>\n",
       "    <tr>\n",
       "      <th>11</th>\n",
       "      <td>150.454719</td>\n",
       "      <td>152.547219</td>\n",
       "      <td>SPEAKER_00</td>\n",
       "    </tr>\n",
       "    <tr>\n",
       "      <th>12</th>\n",
       "      <td>153.171594</td>\n",
       "      <td>157.440969</td>\n",
       "      <td>SPEAKER_00</td>\n",
       "    </tr>\n",
       "    <tr>\n",
       "      <th>13</th>\n",
       "      <td>158.402844</td>\n",
       "      <td>177.353469</td>\n",
       "      <td>SPEAKER_01</td>\n",
       "    </tr>\n",
       "    <tr>\n",
       "      <th>14</th>\n",
       "      <td>178.382844</td>\n",
       "      <td>180.728469</td>\n",
       "      <td>SPEAKER_01</td>\n",
       "    </tr>\n",
       "    <tr>\n",
       "      <th>15</th>\n",
       "      <td>181.605969</td>\n",
       "      <td>188.001594</td>\n",
       "      <td>SPEAKER_01</td>\n",
       "    </tr>\n",
       "    <tr>\n",
       "      <th>16</th>\n",
       "      <td>188.204094</td>\n",
       "      <td>195.207219</td>\n",
       "      <td>SPEAKER_00</td>\n",
       "    </tr>\n",
       "    <tr>\n",
       "      <th>17</th>\n",
       "      <td>195.257844</td>\n",
       "      <td>224.822844</td>\n",
       "      <td>SPEAKER_01</td>\n",
       "    </tr>\n",
       "    <tr>\n",
       "      <th>18</th>\n",
       "      <td>200.303469</td>\n",
       "      <td>200.556594</td>\n",
       "      <td>SPEAKER_00</td>\n",
       "    </tr>\n",
       "    <tr>\n",
       "      <th>19</th>\n",
       "      <td>209.145969</td>\n",
       "      <td>210.445344</td>\n",
       "      <td>SPEAKER_00</td>\n",
       "    </tr>\n",
       "    <tr>\n",
       "      <th>20</th>\n",
       "      <td>226.594719</td>\n",
       "      <td>238.069719</td>\n",
       "      <td>SPEAKER_01</td>\n",
       "    </tr>\n",
       "    <tr>\n",
       "      <th>21</th>\n",
       "      <td>239.487219</td>\n",
       "      <td>268.073469</td>\n",
       "      <td>SPEAKER_01</td>\n",
       "    </tr>\n",
       "    <tr>\n",
       "      <th>22</th>\n",
       "      <td>268.073469</td>\n",
       "      <td>268.107219</td>\n",
       "      <td>SPEAKER_00</td>\n",
       "    </tr>\n",
       "  </tbody>\n",
       "</table>\n",
       "</div>"
      ],
      "text/plain": [
       "         start         end     speaker\n",
       "0     2.967219    4.823469  SPEAKER_00\n",
       "1     5.869719    7.084719  SPEAKER_00\n",
       "2     7.742844    9.194094  SPEAKER_00\n",
       "3     9.987219   16.619094  SPEAKER_00\n",
       "4    11.708469   11.961594  SPEAKER_01\n",
       "5    17.159094   19.251594  SPEAKER_01\n",
       "6    20.297844   39.754719  SPEAKER_01\n",
       "7    41.155344  137.444094  SPEAKER_01\n",
       "8   137.460969  137.579094  SPEAKER_00\n",
       "9   137.882844  146.640969  SPEAKER_00\n",
       "10  147.619719  149.864094  SPEAKER_00\n",
       "11  150.454719  152.547219  SPEAKER_00\n",
       "12  153.171594  157.440969  SPEAKER_00\n",
       "13  158.402844  177.353469  SPEAKER_01\n",
       "14  178.382844  180.728469  SPEAKER_01\n",
       "15  181.605969  188.001594  SPEAKER_01\n",
       "16  188.204094  195.207219  SPEAKER_00\n",
       "17  195.257844  224.822844  SPEAKER_01\n",
       "18  200.303469  200.556594  SPEAKER_00\n",
       "19  209.145969  210.445344  SPEAKER_00\n",
       "20  226.594719  238.069719  SPEAKER_01\n",
       "21  239.487219  268.073469  SPEAKER_01\n",
       "22  268.073469  268.107219  SPEAKER_00"
      ]
     },
     "execution_count": 15,
     "metadata": {},
     "output_type": "execute_result"
    }
   ],
   "source": [
    "example_diarization_data = diarization_result_to_dataframe(example_diarization)\n",
    "example_diarization_data"
   ]
  },
  {
   "cell_type": "code",
   "execution_count": 20,
   "metadata": {},
   "outputs": [
    {
     "data": {
      "text/plain": [
       "<Axes: ylabel='speaker'>"
      ]
     },
     "execution_count": 20,
     "metadata": {},
     "output_type": "execute_result"
    },
    {
     "data": {
      "image/png": "[encoded data removed]",
      "text/plain": [
       "<Figure size 600x100 with 1 Axes>"
      ]
     },
     "metadata": {},
     "output_type": "display_data"
    }
   ],
   "source": [
    "example_diarization_data[\"segment_length\"] = example_diarization_data[\"end\"] - example_diarization_data[\"start\"]\n",
    "(\n",
    "    example_diarization_data[[\"speaker\", \"segment_length\"]]\n",
    "    .groupby(\"speaker\")\n",
    "    .sum()\n",
    "    .plot(kind=\"barh\", figsize=(6,1))\n",
    ")"
   ]
  }
 ],
 "metadata": {
  "kernelspec": {
   "display_name": "audiomariner",
   "language": "python",
   "name": "python3"
  },
  "language_info": {
   "codemirror_mode": {
    "name": "ipython",
    "version": 3
   },
   "file_extension": ".py",
   "mimetype": "text/x-python",
   "name": "python",
   "nbconvert_exporter": "python",
   "pygments_lexer": "ipython3",
   "version": "3.11.9"
  }
 },
 "nbformat": 4,
 "nbformat_minor": 2
}
